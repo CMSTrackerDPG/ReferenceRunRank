{
 "cells": [
  {
   "cell_type": "markdown",
   "id": "f330c708-c9fd-438f-8b91-4f01611180ab",
   "metadata": {},
   "source": [
    "# Reference Run Ranking Performance Testing & Development Notebook"
   ]
  },
  {
   "cell_type": "code",
   "execution_count": null,
   "id": "4a13a8ee-4a99-47f2-996a-843a7cebcd3a",
   "metadata": {
    "scrolled": true
   },
   "outputs": [],
   "source": [
    "import numpy as np\n",
    "import pandas as pd\n",
    "import matplotlib.pyplot as plt\n",
    "import os, sys\n",
    "\n",
    "dqmepath = \"path/to/DQMExplore/project/root/directory\"\n",
    "sys.path.append(os.path.join(dqmepath, \"src/\"))\n",
    "import dqmexplore as dqme\n",
    "\n",
    "rrrpath = \"path/to/rrr/project/root/directory\"\n",
    "sys.path.append(os.path.join(rrrpath, \"src/\"))\n",
    "import refrunrank as rrr\n",
    "\n",
    "dials = dqme.utils.setupdials.setup_dials_object_deviceauth()"
   ]
  },
  {
   "cell_type": "markdown",
   "id": "805118fa-84fd-49ce-9ccf-70bfd8e7c730",
   "metadata": {},
   "source": [
    "## CertHelper"
   ]
  },
  {
   "cell_type": "code",
   "execution_count": null,
   "id": "0bd4199b-a0af-44d1-a600-ca3d3a2e8614",
   "metadata": {},
   "outputs": [],
   "source": [
    "json_dir = os.path.join(rrrpath, \"jsons\")\n",
    "ch_refrunjson = \"ch_refrunjson.json\"\n",
    "rr_goldenjson = \"Express-Collisions-2022_pixel-strip-track-good.json\"\n",
    "\n",
    "chdata = dqme.certhelper.CHRunData(\n",
    "    os.path.join(json_dir, ch_refrunjson),\n",
    "    os.path.join(json_dir, rr_goldenjson)\n",
    ")\n",
    "\n",
    "chdata.getGoodRuns()"
   ]
  },
  {
   "cell_type": "code",
   "execution_count": null,
   "id": "00a57fc5-abca-406e-bc07-114b0b5860b5",
   "metadata": {},
   "outputs": [],
   "source": [
    "filters = {\n",
    "    \"dataset\": \"/Express/Collisions2022/*\"\n",
    "    # \"run_number\":[(352564, 355103), 365889],\n",
    "    # \"reference_run_number\": [352425],\n",
    "    # \"run_reconstruction_type\": \"express\",\n",
    "    # \"reference_run_reconstruction_type\": \"express\",\n",
    "}\n",
    "\n",
    "chdata.applyFilter(filters=filters)"
   ]
  },
  {
   "cell_type": "markdown",
   "id": "203862f5-9ee1-46c1-855c-5429dcd54d40",
   "metadata": {},
   "source": [
    "## OMS"
   ]
  },
  {
   "cell_type": "code",
   "execution_count": null,
   "id": "47c63aff-c344-431c-8e8f-b7136f8ea98d",
   "metadata": {
    "scrolled": true
   },
   "outputs": [],
   "source": [
    "runnbs = list(chdata.applyFilter(filters=filters)[\"run_number\"].unique())\n",
    "omsdata = dqme.omsdata.OMSData(dials)\n",
    "\n",
    "# Set the runs (i.e. filters to specify runs) that we will get data for \n",
    "omsdata.addRuns(runnbs)\n",
    "omsdata.fetchData(\"runs\")\n",
    "omsdata.fetchData(\"lumisections\")"
   ]
  },
  {
   "cell_type": "code",
   "execution_count": null,
   "id": "4f38332e-fc4e-4358-8c57-7b7928dfb7a5",
   "metadata": {},
   "outputs": [],
   "source": [
    "omsdata.getData(\"runs\").head(4)"
   ]
  },
  {
   "cell_type": "code",
   "execution_count": null,
   "id": "18397b4a-d679-4a2e-b9ff-1b49da07bf8a",
   "metadata": {},
   "outputs": [],
   "source": [
    "omsdata.getData(\"lumisections\").head(4)"
   ]
  },
  {
   "cell_type": "markdown",
   "id": "0cc41d1c-adc0-468f-8581-92871ca8dadd",
   "metadata": {},
   "source": [
    "## Ranking"
   ]
  },
  {
   "cell_type": "markdown",
   "id": "23ff2acd-9419-4ca5-8034-20183629ec9c",
   "metadata": {},
   "source": [
    "| Run Features                    | LS Features                              | Stats  |\n",
    "|---------------------------------|------------------------------------------|--------|\n",
    "| `b_field`                      | `delivered_lumi_per_lumisection`         | `mean` |\n",
    "| `l1_triggers_counter`          | `recorded_lumi_per_lumisection`          | `std`  |\n",
    "| `hlt_physics_throughput`       | `init_lumi`                              | `min`  |\n",
    "| `init_lumi`                    | `recorded_lumi`                          | `25%`  |\n",
    "| `crossing_angle_stop`          | `end_lumi`                               | `50%`  |\n",
    "| `energy`                       | `pileup`                                 | `75%`  |\n",
    "| `end_lumi`                     | `delivered_lumi`                         | `max`  |\n",
    "| `hlt_physics_rate`             | `prescale_index`                         |        |\n",
    "| `fill_number`                  |                                          |        |\n",
    "| `crossing_angle_start`         |                                          |        |\n",
    "| `beta_star_start`              |                                          |        |\n",
    "| `initial_prescale_index`       |                                          |        |\n",
    "| `hlt_physics_size`             |                                          |        |\n",
    "| `l1_rate`                      |                                          |        |\n",
    "| `run_number`                   |                                          |        |\n",
    "| `beta_star_stop`               |                                          |        |\n",
    "| `hlt_physics_counter`          |                                          |        |\n",
    "\n",
    "<!-- Run features:\n",
    "* `b_field`\n",
    "* `l1_triggers_counter`\n",
    "* `hlt_physics_throughput`\n",
    "* `init_lumi`\n",
    "* `crossing_angle_stop`\n",
    "* `energy`\n",
    "* `end_lumi`\n",
    "* `hlt_physics_rate`\n",
    "* `fill_number`\n",
    "* `crossing_angle_start`\n",
    "* `beta_star_start`\n",
    "* `initial_prescale_index`\n",
    "* `hlt_physics_size`\n",
    "* `l1_rate`\n",
    "* `run_number`\n",
    "* `beta_star_stop`\n",
    "* `hlt_physics_counter`\n",
    "\n",
    "LS features:\n",
    "* `delivered_lumi_per_lumisection`\n",
    "* `recorded_lumi_per_lumisection`\n",
    "* `init_lumi`\n",
    "* `recorded_lumi`\n",
    "* `end_lumi`\n",
    "* `pileup`\n",
    "* `delivered_lumi`\n",
    "* `prescale_index`\n",
    "\n",
    "Stats:\n",
    "* `mean`\n",
    "* `std`\n",
    "* `min`\n",
    "* `25%`\n",
    "* `50%`\n",
    "* `75%`\n",
    "* `max` -->"
   ]
  },
  {
   "cell_type": "code",
   "execution_count": null,
   "id": "5766e3f4-f7df-4954-8f59-7715866b1683",
   "metadata": {},
   "outputs": [],
   "source": [
    "ranker = rrr.ranking.RunRanker(omsdata)\n",
    "\n",
    "ftrs_dict = {\n",
    "    \"runs\": [\n",
    "        \"b_field\",\n",
    "        \"energy\",\n",
    "        \"hlt_physics_rate\",\n",
    "        \"fill_number\",\n",
    "        # \"run_number\",\n",
    "        # \"init_lumi\",\n",
    "        # \"end_lumi\",\n",
    "        # \"crossing_angle_start\",\n",
    "        # \"crossing_angle_stop\",\n",
    "        # \"beta_star_start\", # Maybe\n",
    "        # \"initial_prescale_index\", # Maybe\n",
    "        # \"hlt_physics_throughput\", # Not relevant\n",
    "        # \"hlt_physics_size\", # Mean event size, not relevant\n",
    "        # \"l1_rate\", # NO, use HLT since that's what ZB uses\n",
    "        # \"hlt_physics_counter\" # NO, num of events\n",
    "        # \"l1_triggers_counter\", # NO, num of events\n",
    "    ],\n",
    "\n",
    "    \"lumisections\": {\n",
    "        \"50%\": [\"pileup\", \"recorded_lumi\"] \n",
    "        # \"mean\":[\"delivered_lumi_per_lumisection\", \"recorded_lumi_per_lumisection\", \"init_lumi\", \"recorded_lumi\", \"end_lumi\", \"pileup\", \"delivered_lumi\", \"prescale_index\"],\n",
    "        # \"std\": [\"delivered_lumi_per_lumisection\", \"recorded_lumi_per_lumisection\", \"init_lumi\", \"recorded_lumi\", \"end_lumi\", \"pileup\", \"delivered_lumi\", \"prescale_index\"],\n",
    "        # \"min\": [\"delivered_lumi_per_lumisection\", \"recorded_lumi_per_lumisection\", \"init_lumi\", \"recorded_lumi\", \"end_lumi\", \"pileup\", \"delivered_lumi\", \"prescale_index\"],\n",
    "        # \"max\": [\"delivered_lumi_per_lumisection\", \"recorded_lumi_per_lumisection\", \"init_lumi\", \"recorded_lumi\", \"end_lumi\", \"pileup\", \"delivered_lumi\", \"prescale_index\"],\n",
    "        # \"50%\": [\"delivered_lumi_per_lumisection\", \"recorded_lumi_per_lumisection\", \"init_lumi\", \"recorded_lumi\", \"end_lumi\", \"pileup\", \"delivered_lumi\", \"prescale_index\"],\n",
    "    }\n",
    "}\n",
    "\n",
    "ranker.setFeatures(ftrs_dict)\n",
    "ranker.constructFeatures()\n",
    "ranker.ftrsDF"
   ]
  },
  {
   "cell_type": "code",
   "execution_count": null,
   "id": "50d75f91-5f65-43db-9f13-f680f54d8efd",
   "metadata": {},
   "outputs": [],
   "source": [
    "numlss_mask = ranker.omsdata.getData(\"lumisections\").groupby(\"runnb\").size() > 1000\n",
    "runnbs = np.array(ranker.omsdata.getRuns())[numlss_mask]\n",
    "print(len(runnbs))"
   ]
  },
  {
   "cell_type": "code",
   "execution_count": null,
   "id": "1c4623db-a455-4797-a89f-47270b112646",
   "metadata": {},
   "outputs": [],
   "source": [
    "rslts, wghts = ranker.refrank_pca(target, n_components=2)\n",
    "print(wghts)\n",
    "rslts"
   ]
  },
  {
   "cell_type": "code",
   "execution_count": null,
   "id": "f84d5fbc-efb1-4e9d-a8d2-867296759092",
   "metadata": {},
   "outputs": [],
   "source": [
    "target = 362728\n",
    "clustering = False # Hierarchical clustering for auto feature selection\n",
    "n_components = 2 # Number of PCA components\n",
    "dist = \"manh\" # Manhattan distance\n",
    "\n",
    "if clustering:\n",
    "    rslts, wghts = rslts_h, wghts_h = ranker.refrank_pca_hierarch(target, n_components=n_components, runnbs=runnbs, dist_metric=dist)\n",
    "else:\n",
    "    rslts, wghts = ranker.refrank_pca(target, n_components=n_components, runnbs=runnbs, dist_metric=dist)"
   ]
  },
  {
   "cell_type": "code",
   "execution_count": null,
   "id": "648d4057-e9b1-491f-bbda-867e3d22e4a8",
   "metadata": {},
   "outputs": [],
   "source": [
    "rslts"
   ]
  },
  {
   "cell_type": "code",
   "execution_count": null,
   "id": "d389ad45-402f-408d-b259-6dd624093895",
   "metadata": {},
   "outputs": [],
   "source": [
    "keys = list(wghts.keys())\n",
    "values = list(wghts.values())\n",
    "sorted_items = sorted(zip(values, keys))  # Sort by values\n",
    "values, keys = zip(*sorted_items)  # Unzip into sorted values and keys\n",
    "\n",
    "# Plotting\n",
    "fig, ax = plt.subplots(figsize=(6, 4), dpi=150)\n",
    "ax.bar(keys, values)\n",
    "ax.set_xlabel(\"Feature\")\n",
    "ax.set_ylabel(\"Weight\")\n",
    "ax.set_title(\"PCA Feature Weights\")\n",
    "ax.set_xticklabels(keys, rotation=45)\n",
    "plt.show()\n",
    "\n",
    "wghts_df = pd.DataFrame(list(wghts.items()), columns=[\"Feature\", \"Weight\"])\n",
    "wghts_df = wghts_df.sort_values(by=\"Weight\", ascending=False).reset_index(drop=True)\n",
    "wghts_df"
   ]
  }
 ],
 "metadata": {
  "kernelspec": {
   "display_name": "Python 3",
   "language": "python",
   "name": "python3"
  },
  "language_info": {
   "codemirror_mode": {
    "name": "ipython",
    "version": 3
   },
   "file_extension": ".py",
   "mimetype": "text/x-python",
   "name": "python",
   "nbconvert_exporter": "python",
   "pygments_lexer": "ipython3",
   "version": "3.9.12"
  }
 },
 "nbformat": 4,
 "nbformat_minor": 5
}
