{
 "cells": [
  {
   "cell_type": "markdown",
   "id": "f330c708-c9fd-438f-8b91-4f01611180ab",
   "metadata": {},
   "source": [
    "# Reference Run Ranking Performance Testing & Development Notebook"
   ]
  },
  {
   "cell_type": "code",
   "execution_count": null,
   "id": "4a13a8ee-4a99-47f2-996a-843a7cebcd3a",
   "metadata": {
    "scrolled": true
   },
   "outputs": [],
   "source": [
    "import pandas as pd\n",
    "import matplotlib.pyplot as plt\n",
    "import seaborn as sns\n",
    "import numpy as np\n",
    "import os\n",
    "\n",
    "import sys\n",
    "sys.path.append(\"../src/\")\n",
    "import refrunrank as rrr\n",
    "\n",
    "sys.path.append(\"../../../DQMExplore/DQMExploreDEV/src/\")\n",
    "import dqmexplore as dqme\n",
    "\n",
    "from cmsdials.filters import OMSFilter, OMSPage\n",
    "\n",
    "dials = dqme.utils.setupdials.setup_dials_object_deviceauth()"
   ]
  },
  {
   "cell_type": "markdown",
   "id": "805118fa-84fd-49ce-9ccf-70bfd8e7c730",
   "metadata": {},
   "source": [
    "## CertHelper"
   ]
  },
  {
   "cell_type": "code",
   "execution_count": null,
   "id": "06d69e3d-fcfc-4d00-975f-4ac52e0ab176",
   "metadata": {
    "scrolled": true
   },
   "outputs": [],
   "source": [
    "import importlib\n",
    "importlib.reload(rrr.certhelper)"
   ]
  },
  {
   "cell_type": "code",
   "execution_count": null,
   "id": "0bd4199b-a0af-44d1-a600-ca3d3a2e8614",
   "metadata": {},
   "outputs": [],
   "source": [
    "json_dir = \"/eos/home-i02/r/rcruzcan/SWAN_projects/RefRunRank/RefRunRank/jsons/\"\n",
    "ch_refrunjson = \"ch_refrunjson.json\"\n",
    "# rr_goldenjson = \"Express-Collisions2023_pixel-good_strip-good_track-good.json\"\n",
    "# rr_goldenjson = \"rr_golden.json\"\n",
    "rr_goldenjson = 'Express-Collisions-2022-2023-2024_pixel-strip-track-good.json'\n",
    "\n",
    "chdata = rrr.certhelper.CHRunData(\n",
    "    os.path.join(json_dir, ch_refrunjson),\n",
    "    os.path.join(json_dir, rr_goldenjson)\n",
    ")\n",
    "\n",
    "chdata.getGoodRuns()"
   ]
  },
  {
   "cell_type": "code",
   "execution_count": null,
   "id": "00a57fc5-abca-406e-bc07-114b0b5860b5",
   "metadata": {},
   "outputs": [],
   "source": [
    "filters = {\n",
    "    # \"run_number\":[(352493, 355101)],\n",
    "    # \"run_number\": ,\n",
    "    # \"reference_run_number\": 312727,\n",
    "    \"run_reconstruction_type\": \"express\",\n",
    "    # \"reference_run_reconstruction_type\": \"express\",\n",
    "    # \"dataset\": \"/Express/Collisions*/*\"\n",
    "}\n",
    "\n",
    "chdata.applyFilter(filters=filters)"
   ]
  },
  {
   "cell_type": "markdown",
   "id": "203862f5-9ee1-46c1-855c-5429dcd54d40",
   "metadata": {},
   "source": [
    "## OMS"
   ]
  },
  {
   "cell_type": "code",
   "execution_count": null,
   "id": "4b90a05b-77e7-4428-8e54-9bc81ca80c76",
   "metadata": {},
   "outputs": [],
   "source": [
    "import importlib\n",
    "importlib.reload(rrr.omsdata)"
   ]
  },
  {
   "cell_type": "code",
   "execution_count": null,
   "id": "47c63aff-c344-431c-8e8f-b7136f8ea98d",
   "metadata": {
    "scrolled": true
   },
   "outputs": [],
   "source": [
    "runnbs = chdata.applyFilter(filters=filters)[\"run_number\"].to_list()\n",
    "omsdata = rrr.omsdata.OMSData(dials)\n",
    "\n",
    "# Set the runs (i.e. filters to specify runs) that we will get data for \n",
    "omsdata.setRuns(runnbs[:100]) \n",
    "# Downloads the requested data\n",
    "omsdata.fetchData(\"runs\")\n",
    "omsdata.fetchData(\"lumisections\")"
   ]
  },
  {
   "cell_type": "markdown",
   "id": "0cc41d1c-adc0-468f-8581-92871ca8dadd",
   "metadata": {},
   "source": [
    "# Ranking"
   ]
  },
  {
   "cell_type": "code",
   "execution_count": null,
   "id": "063074c9-b06d-4e9c-9960-073a51ab8c57",
   "metadata": {},
   "outputs": [],
   "source": [
    "import importlib\n",
    "importlib.reload(rrr.ranking)"
   ]
  },
  {
   "cell_type": "code",
   "execution_count": null,
   "id": "5766e3f4-f7df-4954-8f59-7715866b1683",
   "metadata": {},
   "outputs": [],
   "source": [
    "# 'delivered_lumi_per_lumisection', 'recorded_lumi_per_lumisection',\n",
    "# 'init_lumi', 'recorded_lumi', 'end_lumi', 'lumisection_number',\n",
    "# 'pileup', 'delivered_lumi', 'fill_number', 'prescale_index',\n",
    "# 'run_number'\n",
    "#'count', 'mean', 'std', 'min', '25%', '50%', '75%', 'max'\n",
    "ranker = rrr.ranking.RunRanker(omsdata)\n",
    "\n",
    "target = 356075\n",
    "ftrs_dict = {\n",
    "    \"runs\": [\n",
    "        # \"b_field\",\n",
    "        \"recorded_lumi\",\n",
    "        \"delivered_lumi\",\n",
    "        \"energy\",\n",
    "        \"hlt_physics_rate\",\n",
    "        \"fill_number\",\n",
    "        \"run_number\",\n",
    "        \"hlt_physics_counter\",\n",
    "    ],\n",
    "    \"lumisections\": {\n",
    "        \"mean\":[\"init_lumi\", \"recorded_lumi_per_lumisection\", \"pileup\"],\n",
    "        \"std\": [\"init_lumi\", \"recorded_lumi_per_lumisection\", \"pileup\"],\n",
    "        \"min\": [\"init_lumi\", \"recorded_lumi_per_lumisection\", \"pileup\"],\n",
    "        \"max\": [\"init_lumi\", \"recorded_lumi_per_lumisection\", \"pileup\"],\n",
    "        \"50%\": [\"init_lumi\", \"recorded_lumi_per_lumisection\", \"pileup\"],\n",
    "    }\n",
    "}\n",
    "\n",
    "ranker.setFeatures(ftrs_dict)\n",
    "ranker.constructFeatures()\n",
    "rslts, wghts = ranker.refrank_pca(target, n_components=2)"
   ]
  },
  {
   "cell_type": "code",
   "execution_count": null,
   "id": "7c4f5615-f814-4160-bd66-d01d18fe4542",
   "metadata": {},
   "outputs": [],
   "source": [
    "# keys = list(wghts.keys())\n",
    "# values = list(wghts.values())\n",
    "sorted_items = sorted(zip(values, keys))  # Sort by values\n",
    "values, keys = zip(*sorted_items)  # Unzip into sorted values and keys\n",
    "\n",
    "# Plotting\n",
    "fig, ax = plt.subplots(figsize=(10, 6))\n",
    "ax.bar(keys, values)\n",
    "ax.set_xlabel(\"Feature\")\n",
    "ax.set_ylabel(\"Weight\")\n",
    "ax.set_title(\"PCA Feature Weights\")\n",
    "ax.set_xticklabels(keys, rotation=90)\n",
    "plt.show()\n",
    "\n",
    "wghts_df = pd.DataFrame(list(wghts.items()), columns=[\"Feature\", \"Weight\"])\n",
    "wghts_df = wghts_df.sort_values(by=\"Weight\", ascending=False).reset_index(drop=True)\n",
    "wghts_df"
   ]
  },
  {
   "cell_type": "code",
   "execution_count": null,
   "id": "d1a45a51-59fb-4589-b751-57bbb05ee69a",
   "metadata": {},
   "outputs": [],
   "source": [
    "import seaborn as sns\n",
    "sns.pairplot(ranker.ftrsDF, corner=True)\n",
    "plt.suptitle(\"Feature Correlation Grid\", y=1.02)\n",
    "plt.show()"
   ]
  },
  {
   "cell_type": "code",
   "execution_count": null,
   "id": "f0428de9-9998-4000-9fd7-59d88886a24d",
   "metadata": {},
   "outputs": [],
   "source": [
    "corr_mtrx = ranker.ftrsDF.corr()\n",
    "corr_mtrx = corr_mtrx.fillna(0)\n",
    "corr_mtrx"
   ]
  },
  {
   "cell_type": "code",
   "execution_count": null,
   "id": "a71026fb-53d7-481d-a9f5-612144c418fb",
   "metadata": {},
   "outputs": [],
   "source": [
    "import seaborn as sns\n",
    "import matplotlib.pyplot as plt\n",
    "from scipy.cluster.hierarchy import linkage, leaves_list\n",
    "\n",
    "linkage_matrix = linkage(corr_mtrx, method='complete')\n",
    "order = leaves_list(linkage_matrix)\n",
    "\n",
    "# Reordering\n",
    "ordered_corr_mtrx = corr_mtrx.iloc[order, order]\n",
    "\n",
    "# Plot reordered heatmap\n",
    "plt.figure(figsize=(20, 14))  # Increase figure size\n",
    "sns.heatmap(ordered_corr_mtrx, annot=True, vmin=-1, vmax=1, cmap=\"BrBG\", \n",
    "            cbar_kws={\"label\": \"Correlation\"}, annot_kws={\"size\": 8}) \n",
    "plt.title(\"Clustered Correlation Matrix\", fontsize=16)\n",
    "\n",
    "plt.xticks(rotation=90, ha='right', fontsize=10) \n",
    "plt.yticks(fontsize=10)\n",
    "plt.tight_layout() \n",
    "plt.show()"
   ]
  },
  {
   "cell_type": "markdown",
   "id": "64451202-a956-4764-aeea-744bae743606",
   "metadata": {},
   "source": [
    "We now use hierarchical clustering analysis to weed out highly correlated features.\n",
    "- `1-corr_mtrx.abs()` -> we turn the correlation matrix into a distance matrix, where lower distance implies higher correlation (closer in \"correlation space\"), while higher distance implies lower correlation (further apart in \"correlation space\")\n",
    "- `linkage` -> provides complete history of how the cluster were merged at each step, which is the basis for building a hierarchical tree (dendogram); each number represents a cluster location\n",
    "- `linkage_mtrx` -> column 1 = index of first cluster being merged, column 2 = index of second cluster being merged, column 3 -> dsitance between the clusters being merged, column 4 -> total number of original items in the new cluster formed by the merge\n",
    "\n",
    "Notes:\n",
    "- Hierarchical clustering order rows and/or cols based on similarity\n",
    "- Makes it easy to see correlation in the data\n",
    "- In each step at the clustering step, we cluster based on how similarly each feature correlates with the same other features. Those features that cluster most similarly to other features are clustered together and then this cluster is treated as a feature itself in the next clustering step.\n",
    "- More abstractly, those features in correlation space which are closest are clustered together and this cluster is treated as a feature itself, with its location given by (in the case for \"complete\") the longest distance. Distance here is measured using, or instance and typically, the Euclidian distance.\n",
    "\n",
    "Documentation\n",
    "- `linkage` -> https://docs.scipy.org/doc/scipy/reference/generated/scipy.cluster.hierarchy.linkage.html"
   ]
  },
  {
   "cell_type": "code",
   "execution_count": null,
   "id": "d46a65b9-ff4c-4e1f-883b-1f0fae578c1e",
   "metadata": {},
   "outputs": [],
   "source": [
    "corr_dist = 1-corr_mtrx.abs()\n",
    "corr_dist"
   ]
  },
  {
   "cell_type": "code",
   "execution_count": null,
   "id": "d671feda-1d48-4c2f-b30f-fcf741186b8c",
   "metadata": {},
   "outputs": [],
   "source": [
    "# Hierarchical cluster analysis\n",
    "from scipy.cluster.hierarchy import linkage, fcluster, dendrogram\n",
    "corr_dist = 1-corr_mtrx.abs()\n",
    "dist_condensed = corr_dist.values[np.triu_indices_from(corr_dist, k=1)] # condensing\n",
    "linkage_mtrx = linkage(dist_condensed, method=\"complete\")\n",
    "\n",
    "plt.figure(figsize=(8,5))\n",
    "dendrogram(linkage_mtrx, labels=corr_dist.columns, leaf_rotation=90)\n",
    "plt.xlabel(\"Features\")\n",
    "plt.ylabel(\"Distance\")\n",
    "plt.show()"
   ]
  },
  {
   "cell_type": "code",
   "execution_count": null,
   "id": "684edec8-541f-4ac8-a830-d46da414c258",
   "metadata": {},
   "outputs": [],
   "source": [
    "corr_threshold = 0.7\n",
    "clusters = fcluster(linkage_mtrx, t=corr_threshold, criterion=\"distance\")\n",
    "\n",
    "clustered_ftrs = {}\n",
    "for idx, cluster_id in enumerate(clusters):\n",
    "    feature = corr_mtrx.columns[idx]\n",
    "    if cluster_id not in clustered_ftrs:\n",
    "        clustered_ftrs[cluster_id] = [feature]\n",
    "    else:\n",
    "        clustered_ftrs[cluster_id].append(feature)\n",
    "clustered_ftrs"
   ]
  },
  {
   "cell_type": "code",
   "execution_count": null,
   "id": "6c4e18ab-726e-48d2-a51d-1ce76ff18014",
   "metadata": {},
   "outputs": [],
   "source": [
    "selected_ftrs = []\n",
    "for cluster, features in clustered_ftrs.items():\n",
    "    if len(features) == 1:\n",
    "        selected_ftrs.append(features[0])\n",
    "    else:\n",
    "        top_ftr = wghts_df[wghts_df[\"Feature\"].isin(features)][\"Weight\"].idxmax()\n",
    "        selected_ftrs.append(top_ftr)\n",
    "selected_ftrs = list(wghts_df.iloc[selected_ftrs][\"Feature\"])\n",
    "selected_ftrs"
   ]
  },
  {
   "cell_type": "code",
   "execution_count": null,
   "id": "15f27d61-2091-44ff-a789-84fb48651616",
   "metadata": {},
   "outputs": [],
   "source": [
    "ranker = rrr.ranking.RunRanker(omsdata)\n",
    "\n",
    "target = 356075\n",
    "ftrs_dict = {\n",
    "    \"runs\": [\n",
    "        \"delivered_lumi\",\n",
    "        \"fill_number\",\n",
    "        \"hlt_physics_rate\",\n",
    "    ],\n",
    "    \"lumisections\": {\n",
    "        \"mean\":[\"init_lumi\"],\n",
    "        \"min\": [\"init_lumi\", \"pileup\"],\n",
    "    }\n",
    "}\n",
    "\n",
    "ranker.setFeatures(ftrs_dict)\n",
    "ranker.constructFeatures()\n",
    "\n",
    "rslts, wghts = ranker.refrank_pca(target, n_components=2)"
   ]
  },
  {
   "cell_type": "code",
   "execution_count": null,
   "id": "2013611a-6e49-4e5f-9a92-bda2cec6a81b",
   "metadata": {},
   "outputs": [],
   "source": [
    "rslts"
   ]
  }
 ],
 "metadata": {
  "kernelspec": {
   "display_name": "Python 3",
   "language": "python",
   "name": "python3"
  },
  "language_info": {
   "codemirror_mode": {
    "name": "ipython",
    "version": 3
   },
   "file_extension": ".py",
   "mimetype": "text/x-python",
   "name": "python",
   "nbconvert_exporter": "python",
   "pygments_lexer": "ipython3",
   "version": "3.11.9"
  }
 },
 "nbformat": 4,
 "nbformat_minor": 5
}
