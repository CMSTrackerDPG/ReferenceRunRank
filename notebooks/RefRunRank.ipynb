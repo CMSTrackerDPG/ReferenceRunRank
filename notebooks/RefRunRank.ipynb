{
 "cells": [
  {
   "cell_type": "markdown",
   "id": "f330c708-c9fd-438f-8b91-4f01611180ab",
   "metadata": {},
   "source": [
    "# Reference Run Ranking Performance Testing & Development Notebook"
   ]
  },
  {
   "cell_type": "code",
   "execution_count": null,
   "id": "4a13a8ee-4a99-47f2-996a-843a7cebcd3a",
   "metadata": {
    "scrolled": true
   },
   "outputs": [],
   "source": [
    "import pandas as pd\n",
    "import matplotlib.pyplot as plt\n",
    "import seaborn as sns\n",
    "import numpy as np\n",
    "import os\n",
    "\n",
    "import sys\n",
    "sys.path.append(\"./src/\")\n",
    "import refrunrank as rrr\n",
    "\n",
    "import dqmexplore as dqme\n",
    "from cmsdials.filters import OMSFilter, OMSPage\n",
    "\n",
    "dials = dqme.utils.setupdials.setup_dials_object_deviceauth()"
   ]
  },
  {
   "cell_type": "markdown",
   "id": "805118fa-84fd-49ce-9ccf-70bfd8e7c730",
   "metadata": {},
   "source": [
    "## CertHelper"
   ]
  },
  {
   "cell_type": "code",
   "execution_count": null,
   "id": "06d69e3d-fcfc-4d00-975f-4ac52e0ab176",
   "metadata": {
    "scrolled": true
   },
   "outputs": [],
   "source": [
    "import importlib\n",
    "importlib.reload(rrr.certhelper)"
   ]
  },
  {
   "cell_type": "code",
   "execution_count": null,
   "id": "0bd4199b-a0af-44d1-a600-ca3d3a2e8614",
   "metadata": {},
   "outputs": [],
   "source": [
    "json_dir = \"/afs/cern.ch/user/r/rcruzcan/rcruzcan/SWAN_projects/RefRunRank/RefRunRank/jsons\"\n",
    "ch_refrunjson = \"ch_refrunjson.json\"\n",
    "rr_goldenjson = 'Express-Collisions-2022-2023-2024_pixel-strip-track-good.json'\n",
    "\n",
    "chdata = rrr.certhelper.CHRunData(\n",
    "    os.path.join(json_dir, ch_refrunjson),\n",
    "    os.path.join(json_dir, rr_goldenjson)\n",
    ")\n",
    "\n",
    "chdata.getGoodRuns()"
   ]
  },
  {
   "cell_type": "code",
   "execution_count": null,
   "id": "00a57fc5-abca-406e-bc07-114b0b5860b5",
   "metadata": {},
   "outputs": [],
   "source": [
    "filters = {\n",
    "    # \"run_number\":[(352564, 355103), 365889],\n",
    "    # \"reference_run_number\": [352425],\n",
    "    # \"run_reconstruction_type\": \"express\",\n",
    "    # \"reference_run_reconstruction_type\": \"express\",\n",
    "    \"dataset\": \"/Express/Collisions2022/*\"\n",
    "}\n",
    "\n",
    "chdata.applyFilter(filters=filters)"
   ]
  },
  {
   "cell_type": "markdown",
   "id": "203862f5-9ee1-46c1-855c-5429dcd54d40",
   "metadata": {},
   "source": [
    "## OMS"
   ]
  },
  {
   "cell_type": "code",
   "execution_count": null,
   "id": "4b90a05b-77e7-4428-8e54-9bc81ca80c76",
   "metadata": {},
   "outputs": [],
   "source": [
    "import importlib\n",
    "importlib.reload(rrr.omsdata)"
   ]
  },
  {
   "cell_type": "code",
   "execution_count": null,
   "id": "47c63aff-c344-431c-8e8f-b7136f8ea98d",
   "metadata": {
    "scrolled": true
   },
   "outputs": [],
   "source": [
    "runnbs = chdata.applyFilter(filters=filters)[\"run_number\"].to_list()\n",
    "omsdata = rrr.omsdata.OMSData(dials)\n",
    "\n",
    "# Set the runs (i.e. filters to specify runs) that we will get data for \n",
    "omsdata.setRuns(runnbs[:100]) \n",
    "# Downloads the requested data\n",
    "omsdata.fetchData(\"runs\")\n",
    "omsdata.fetchData(\"lumisections\")"
   ]
  },
  {
   "cell_type": "markdown",
   "id": "0cc41d1c-adc0-468f-8581-92871ca8dadd",
   "metadata": {},
   "source": [
    "## Ranking"
   ]
  },
  {
   "cell_type": "code",
   "execution_count": null,
   "id": "063074c9-b06d-4e9c-9960-073a51ab8c57",
   "metadata": {},
   "outputs": [],
   "source": [
    "import importlib\n",
    "importlib.reload(rrr.ranking)"
   ]
  },
  {
   "cell_type": "markdown",
   "id": "23ff2acd-9419-4ca5-8034-20183629ec9c",
   "metadata": {},
   "source": [
    "| Run Features                    | LS Features                              | Stats  |\n",
    "|---------------------------------|------------------------------------------|--------|\n",
    "| `b_field`                      | `delivered_lumi_per_lumisection`         | `mean` |\n",
    "| `l1_triggers_counter`          | `recorded_lumi_per_lumisection`          | `std`  |\n",
    "| `hlt_physics_throughput`       | `init_lumi`                              | `min`  |\n",
    "| `init_lumi`                    | `recorded_lumi`                          | `25%`  |\n",
    "| `crossing_angle_stop`          | `end_lumi`                               | `50%`  |\n",
    "| `energy`                       | `pileup`                                 | `75%`  |\n",
    "| `end_lumi`                     | `delivered_lumi`                         | `max`  |\n",
    "| `hlt_physics_rate`             | `prescale_index`                         |        |\n",
    "| `fill_number`                  |                                          |        |\n",
    "| `crossing_angle_start`         |                                          |        |\n",
    "| `beta_star_start`              |                                          |        |\n",
    "| `initial_prescale_index`       |                                          |        |\n",
    "| `hlt_physics_size`             |                                          |        |\n",
    "| `l1_rate`                      |                                          |        |\n",
    "| `run_number`                   |                                          |        |\n",
    "| `beta_star_stop`               |                                          |        |\n",
    "| `hlt_physics_counter`          |                                          |        |\n",
    "\n",
    "<!-- Run features:\n",
    "* `b_field`\n",
    "* `l1_triggers_counter`\n",
    "* `hlt_physics_throughput`\n",
    "* `init_lumi`\n",
    "* `crossing_angle_stop`\n",
    "* `energy`\n",
    "* `end_lumi`\n",
    "* `hlt_physics_rate`\n",
    "* `fill_number`\n",
    "* `crossing_angle_start`\n",
    "* `beta_star_start`\n",
    "* `initial_prescale_index`\n",
    "* `hlt_physics_size`\n",
    "* `l1_rate`\n",
    "* `run_number`\n",
    "* `beta_star_stop`\n",
    "* `hlt_physics_counter`\n",
    "\n",
    "LS features:\n",
    "* `delivered_lumi_per_lumisection`\n",
    "* `recorded_lumi_per_lumisection`\n",
    "* `init_lumi`\n",
    "* `recorded_lumi`\n",
    "* `end_lumi`\n",
    "* `pileup`\n",
    "* `delivered_lumi`\n",
    "* `prescale_index`\n",
    "\n",
    "Stats:\n",
    "* `mean`\n",
    "* `std`\n",
    "* `min`\n",
    "* `25%`\n",
    "* `50%`\n",
    "* `75%`\n",
    "* `max` -->"
   ]
  },
  {
   "cell_type": "code",
   "execution_count": null,
   "id": "5766e3f4-f7df-4954-8f59-7715866b1683",
   "metadata": {},
   "outputs": [],
   "source": [
    "ranker = rrr.ranking.RunRanker(omsdata)\n",
    "\n",
    "target = 356075\n",
    "ftrs_dict = {\n",
    "    \"runs\": [\n",
    "        \"energy\",\n",
    "        \"hlt_physics_rate\",\n",
    "        \"fill_number\",\n",
    "        \"run_number\",\n",
    "        \"hlt_physics_counter\",\n",
    "    ],\n",
    "    \"lumisections\": {\n",
    "        \"mean\":[\"init_lumi\", \"recorded_lumi_per_lumisection\", \"pileup\"],\n",
    "        \"std\": [\"init_lumi\", \"recorded_lumi_per_lumisection\", \"pileup\"],\n",
    "        \"min\": [\"init_lumi\", \"recorded_lumi_per_lumisection\", \"pileup\"],\n",
    "        \"max\": [\"init_lumi\", \"recorded_lumi_per_lumisection\", \"pileup\"],\n",
    "        \"50%\": [\"init_lumi\", \"recorded_lumi_per_lumisection\", \"pileup\"],\n",
    "    }\n",
    "}\n",
    "\n",
    "ranker.setFeatures(ftrs_dict)\n",
    "ranker.constructFeatures()\n",
    "ranker.ftrsDF"
   ]
  },
  {
   "cell_type": "code",
   "execution_count": null,
   "id": "1c4623db-a455-4797-a89f-47270b112646",
   "metadata": {},
   "outputs": [],
   "source": [
    "rslts, wghts = ranker.refrank_pca(target, n_components=2)\n",
    "print(wghts)\n",
    "rslts"
   ]
  }
 ],
 "metadata": {
  "kernelspec": {
   "display_name": "Python 3",
   "language": "python",
   "name": "python3"
  },
  "language_info": {
   "codemirror_mode": {
    "name": "ipython",
    "version": 3
   },
   "file_extension": ".py",
   "mimetype": "text/x-python",
   "name": "python",
   "nbconvert_exporter": "python",
   "pygments_lexer": "ipython3",
   "version": "3.11.9"
  }
 },
 "nbformat": 4,
 "nbformat_minor": 5
}
