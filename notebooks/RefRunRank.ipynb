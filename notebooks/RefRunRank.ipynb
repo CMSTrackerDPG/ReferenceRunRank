{
 "cells": [
  {
   "cell_type": "markdown",
   "id": "52042e41",
   "metadata": {},
   "source": [
    "# Reference Run Ranking Results Evaluation Notebook"
   ]
  },
  {
   "cell_type": "markdown",
   "id": "b4c44227",
   "metadata": {},
   "source": [
    "## Cert Helper run-reference run mapping"
   ]
  },
  {
   "cell_type": "markdown",
   "id": "99bc9c3d",
   "metadata": {},
   "source": [
    "To search for reference run that you might want to use, you can use DQM Explore's `search_runs` command. First, downloading the latest Certification Helper run-reference run mapping by running this command.\n",
    "\n",
    "```bash\n",
    "fetch_refruns -f ./jsons/certhelper_refruns.json\n",
    "```\n",
    "\n",
    "Then you can search for the reference run used for a give run by running the following:\n",
    "\n",
    "```bash\n",
    "search_runs -i jsons/certhelper_refruns.json -r 380238\n",
    "```"
   ]
  },
  {
   "cell_type": "markdown",
   "id": "9d2a1584",
   "metadata": {},
   "source": [
    "## Run Registry \"golden\" JSON"
   ]
  },
  {
   "cell_type": "markdown",
   "id": "0ba6e2b5",
   "metadata": {},
   "source": [
    "To generate your own \"golden\" JSON to use for the RRR, you can run the following command.\n",
    "\n",
    "```bash\n",
    "fetch_golden -l configs/runreg_logic.json -d \"/PromptReco/Collisions202(4|5)/DQM\" -f ./jsons/golden_PromptReco-Collisions2024-2025.json\n",
    "```"
   ]
  },
  {
   "cell_type": "markdown",
   "id": "b2be46b8",
   "metadata": {},
   "source": [
    "## Loading ranking results\n",
    "\n",
    "To run RRR in the command line, you can follow the example shown below:\n",
    "\n",
    "```bash\n",
    "rrr --config configs/refrank_config_example.json --golden ./jsons/golden_PromptReco-Collisions2024-2025.json --rslts_fname ./rankings/rankings_380238.json --target 380238\n",
    "```"
   ]
  },
  {
   "cell_type": "code",
   "execution_count": null,
   "id": "4205e6d4",
   "metadata": {},
   "outputs": [],
   "source": [
    "import pandas as pd\n",
    "\n",
    "path = \"../rankings/rankings_385312.json\"\n",
    "\n",
    "rankings = pd.read_json(path, orient=\"index\")\n",
    "rankings"
   ]
  }
 ],
 "metadata": {
  "kernelspec": {
   "display_name": "venv",
   "language": "python",
   "name": "python3"
  },
  "language_info": {
   "codemirror_mode": {
    "name": "ipython",
    "version": 3
   },
   "file_extension": ".py",
   "mimetype": "text/x-python",
   "name": "python",
   "nbconvert_exporter": "python",
   "pygments_lexer": "ipython3",
   "version": "3.11.11"
  }
 },
 "nbformat": 4,
 "nbformat_minor": 5
}
