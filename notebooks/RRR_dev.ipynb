{
 "cells": [
  {
   "cell_type": "markdown",
   "id": "9c840f05",
   "metadata": {},
   "source": [
    "# Setup"
   ]
  },
  {
   "cell_type": "code",
   "execution_count": null,
   "id": "5610e234",
   "metadata": {},
   "outputs": [],
   "source": [
    "# External modules\n",
    "import pandas as pd\n",
    "import matplotlib.pyplot as plt\n",
    "import seaborn as sns\n",
    "import importlib\n",
    "import numpy as np\n",
    "import os, sys\n",
    "import json\n",
    "\n",
    "pd.options.mode.chained_assignment = None"
   ]
  },
  {
   "cell_type": "code",
   "execution_count": null,
   "id": "fc31bd7c",
   "metadata": {},
   "outputs": [],
   "source": [
    "with open(\"../clientid.json\", \"r\") as file:\n",
    "    secrets = json.load(file)\n",
    "\n",
    "os.environ[\"API_CLIENT_ID\"] = secrets[\"API_CLIENT_ID\"]\n",
    "os.environ[\"API_CLIENT_SECRET\"] = secrets[\"API_CLIENT_SECRET\"]"
   ]
  },
  {
   "cell_type": "code",
   "execution_count": null,
   "id": "93376553",
   "metadata": {},
   "outputs": [],
   "source": [
    "import refrunrank as rrr\n",
    "import oms"
   ]
  },
  {
   "cell_type": "code",
   "execution_count": null,
   "id": "adb81444",
   "metadata": {},
   "outputs": [],
   "source": [
    "importlib.reload(rrr)\n",
    "importlib.reload(oms)\n",
    "\n",
    "CHData = rrr.CHRunData(\"../jsons/AllRunsRefRuns_Mar5_2024.json\")\n",
    "oms_fetch = oms.oms_fetch()"
   ]
  },
  {
   "cell_type": "markdown",
   "id": "b7e56391",
   "metadata": {},
   "source": [
    "## Checking setup"
   ]
  },
  {
   "cell_type": "code",
   "execution_count": null,
   "id": "0460a34c",
   "metadata": {},
   "outputs": [],
   "source": [
    "# Using the API, you can check all of the available features\n",
    "print(\"All available run level features:\\n\")\n",
    "oms_fetch.get_oms_data(308997, \"runs\")"
   ]
  },
  {
   "cell_type": "code",
   "execution_count": null,
   "id": "6c959233",
   "metadata": {},
   "outputs": [],
   "source": [
    "oms_fetch.get_oms_data([313118, 355408], \"runs\")"
   ]
  },
  {
   "cell_type": "code",
   "execution_count": null,
   "id": "0c44e582",
   "metadata": {},
   "outputs": [],
   "source": [
    "oms_fetch.get_oms_data((313118, 320000), \"runs\")"
   ]
  },
  {
   "cell_type": "code",
   "execution_count": null,
   "id": "d2cba5b8",
   "metadata": {},
   "outputs": [],
   "source": [
    "filters = {\n",
    "    # \"run_number\": (313118, 377251),\n",
    "    # \"reference_run_number\": 312727,\n",
    "    # \"run_reconstruction_type\": \"express\",\n",
    "    # \"reference_run_reconstruction_type\": \"express\",\n",
    "    \"dataset\": \"/Express/Collisions202?/*\"\n",
    "}\n",
    "\n",
    "CHData.applyfilter(filters=filters)"
   ]
  },
  {
   "cell_type": "markdown",
   "id": "e35635cd",
   "metadata": {},
   "source": [
    "# User Input"
   ]
  },
  {
   "cell_type": "code",
   "execution_count": null,
   "id": "473f3c33",
   "metadata": {},
   "outputs": [],
   "source": [
    "# User input: Features that will be used \n",
    "ftrs_lst = [\n",
    "    'b_field',\n",
    "    'init_lumi',\n",
    "    'energy',\n",
    "    'end_lumi',\n",
    "    'hlt_physics_rate',\n",
    "    'l1_rate',\n",
    "    'run_number',\n",
    "]\n",
    "\n",
    "# Target run\n",
    "target = 370772\n",
    "\n",
    "# If testing or not\n",
    "testing = True\n",
    "\n",
    "# Getting run numbers to query\n",
    "CHfilters = {\n",
    "    \"run_number\": (target-500, target),\n",
    "    # \"reference_run_number\": 312727,\n",
    "    \"run_reconstruction_type\": \"prompt\",\n",
    "    # \"reference_run_reconstruction_type\": \"express\",\n",
    "    \"dataset\": \"*/Collisions202?/*\"\n",
    "}\n",
    "\n",
    "CHData.applyfilter(filters=CHfilters)\n",
    "candsrunnb = list(CHData.filteredDF[\"run_number\"].unique())\n",
    "\n",
    "# if target in candsrunnb:\n",
    "    # candsrunnb.remove(target)\n",
    "\n",
    "# OMS Filter\n",
    "min_lss = 500\n",
    "\n",
    "# Filters that will be applied in query to OMS\n",
    "oms_filter = [\n",
    "    {\"attribute_name\": \"last_lumisection_number\", \"value\": min_lss, \"operator\": \"GE\"},\n",
    "]"
   ]
  },
  {
   "cell_type": "markdown",
   "id": "93d4307a",
   "metadata": {},
   "source": [
    "# Fetching Data"
   ]
  },
  {
   "cell_type": "code",
   "execution_count": null,
   "id": "ebdc4065",
   "metadata": {},
   "outputs": [],
   "source": [
    "# Getting data from oms\n",
    "oms_fetch.get_oms_data(candsrunnb, \"runs\", extrafilters=oms_filter)"
   ]
  },
  {
   "cell_type": "code",
   "execution_count": null,
   "id": "958f49a6",
   "metadata": {},
   "outputs": [],
   "source": [
    "# Creating RunRanker instance\n",
    "\n",
    "importlib.reload(rrr)\n",
    "import refrunrank as rrr\n",
    "\n",
    "ranker = rrr.RunRanker(oms_fetch.last_run_query, ftrs_lst)"
   ]
  },
  {
   "cell_type": "code",
   "execution_count": null,
   "id": "f259171a",
   "metadata": {},
   "outputs": [],
   "source": [
    "# Taking a look at the ranking feature selection\n",
    "ranker.rankftrs"
   ]
  },
  {
   "cell_type": "code",
   "execution_count": null,
   "id": "4658e89c",
   "metadata": {},
   "outputs": [],
   "source": [
    "# Taking a look at the stored dataframe\n",
    "ranker.rundf"
   ]
  },
  {
   "cell_type": "markdown",
   "id": "57756c26",
   "metadata": {},
   "source": [
    "# Ranking"
   ]
  },
  {
   "cell_type": "code",
   "execution_count": null,
   "id": "0fdcd607",
   "metadata": {},
   "outputs": [],
   "source": [
    "ranker.refrank(target)"
   ]
  },
  {
   "cell_type": "markdown",
   "id": "130b3441",
   "metadata": {},
   "source": [
    "---"
   ]
  },
  {
   "cell_type": "code",
   "execution_count": null,
   "id": "4f1b4b66",
   "metadata": {},
   "outputs": [],
   "source": [
    "# Finding the rank of the actual RR used\n",
    "target_data = targets_df.loc[rankings.index.values[0][1]]\n",
    "RR_used = target_data[\"RR_used\"]\n",
    "rankings.loc[(slice(None), RR_used), :] # Some really weird slicing syntax"
   ]
  },
  {
   "cell_type": "code",
   "execution_count": null,
   "id": "9a899c0f",
   "metadata": {},
   "outputs": [],
   "source": [
    "importlib.reload(rrr)\n",
    "importlib.reload(omsu)\n",
    "importlib.reload(tests)"
   ]
  },
  {
   "cell_type": "code",
   "execution_count": null,
   "id": "52357249",
   "metadata": {},
   "outputs": [],
   "source": [
    "targets_ftrs"
   ]
  },
  {
   "cell_type": "code",
   "execution_count": null,
   "id": "354faf98",
   "metadata": {},
   "outputs": [],
   "source": [
    "candidates_ftrs"
   ]
  },
  {
   "cell_type": "code",
   "execution_count": null,
   "id": "828a9a17",
   "metadata": {},
   "outputs": [],
   "source": [
    "comp_number = 60\n",
    "n_components = 3\n",
    "\n",
    "RRranks = tests.test_rank(\n",
    "    targets_ftrs, \n",
    "    candidates_ftrs, \n",
    "    comp_number=comp_number, \n",
    "    n_components=n_components, \n",
    "    print_stats=False, \n",
    "    plot=True, \n",
    "    dpi=100, \n",
    "    return_RRranks=True\n",
    ")"
   ]
  },
  {
   "cell_type": "code",
   "execution_count": null,
   "id": "80093a90",
   "metadata": {},
   "outputs": [],
   "source": [
    "RRranks"
   ]
  },
  {
   "cell_type": "code",
   "execution_count": null,
   "id": "d7f06012",
   "metadata": {},
   "outputs": [],
   "source": [
    "RRranks.sort_values(by=[\"runs\"], inplace=True)\n",
    "RRranks[\"runRR_delta\"] = RRranks[\"runs\"] - RRranks[\"RRs\"]\n",
    "RRranks"
   ]
  },
  {
   "cell_type": "code",
   "execution_count": null,
   "id": "6bf55af9",
   "metadata": {},
   "outputs": [],
   "source": [
    "RRranks[\"RRs\"].unique()"
   ]
  },
  {
   "cell_type": "code",
   "execution_count": null,
   "id": "034a6b79",
   "metadata": {},
   "outputs": [],
   "source": [
    "# Making histograms of difference in run number and actual RRs used\n",
    "fig, axs = plt.subplots(2)\n",
    "axs[0].hist(RRranks[\"runRR_delta\"], bins=50)\n",
    "axs[1].hist(RRranks[\"RRs\"], bins=50)\n"
   ]
  },
  {
   "cell_type": "code",
   "execution_count": null,
   "id": "61f86612",
   "metadata": {},
   "outputs": [],
   "source": [
    "# Looking at those RR which scored badly\n",
    "RRranks_GE60 = RRranks[RRranks[\"ranks\"] >= 60]\n",
    "RRranks_GE60"
   ]
  },
  {
   "cell_type": "code",
   "execution_count": null,
   "id": "01deeb09",
   "metadata": {},
   "outputs": [],
   "source": [
    "RRranks_max = RRranks[RRranks[\"ranks\"] == RRranks[\"ranks\"].max()]\n",
    "RRranks_max"
   ]
  },
  {
   "cell_type": "code",
   "execution_count": null,
   "id": "d0af32f3",
   "metadata": {},
   "outputs": [],
   "source": [
    "pd.DataFrame(targets_wRR.loc[RRranks_max.iloc[0][\"runs\"]]).T"
   ]
  },
  {
   "cell_type": "code",
   "execution_count": null,
   "id": "3d217f56",
   "metadata": {},
   "outputs": [],
   "source": [
    "pd.DataFrame(candidates_df.loc[RRranks_max.iloc[0][\"RRs\"]]).T"
   ]
  },
  {
   "cell_type": "code",
   "execution_count": null,
   "id": "0a22cefd",
   "metadata": {
    "scrolled": false
   },
   "outputs": [],
   "source": [
    "# Testing on a wide range of possible value combinations\n",
    "comp_number_range = np.arange(20, 130, 20)\n",
    "n_components_range = np.arange(1, len(ftrs_lst) - 4)"
   ]
  },
  {
   "cell_type": "code",
   "execution_count": null,
   "id": "d105a163",
   "metadata": {
    "scrolled": false
   },
   "outputs": [],
   "source": [
    "for comparisons, components in product(comp_number_range, n_components_range):\n",
    "    RRranks = test_rank(\n",
    "        targets_wRR, \n",
    "        candidates_df, \n",
    "        comp_number=comparisons, \n",
    "        n_components=components, \n",
    "        print_stats=True, \n",
    "        plot=True, \n",
    "        dpi=100, \n",
    "        return_RRranks=True\n",
    "    )"
   ]
  },
  {
   "cell_type": "code",
   "execution_count": null,
   "id": "33f87d20",
   "metadata": {},
   "outputs": [],
   "source": []
  }
 ],
 "metadata": {
  "@webio": {
   "lastCommId": null,
   "lastKernelId": null
  },
  "kernelspec": {
   "display_name": "Python 3",
   "language": "python",
   "name": "python3"
  },
  "language_info": {
   "codemirror_mode": {
    "name": "ipython",
    "version": 3
   },
   "file_extension": ".py",
   "mimetype": "text/x-python",
   "name": "python",
   "nbconvert_exporter": "python",
   "pygments_lexer": "ipython3",
   "version": "3.9.18"
  }
 },
 "nbformat": 4,
 "nbformat_minor": 5
}
