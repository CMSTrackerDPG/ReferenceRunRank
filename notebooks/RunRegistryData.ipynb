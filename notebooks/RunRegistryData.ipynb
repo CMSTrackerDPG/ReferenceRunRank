{
 "cells": [
  {
   "cell_type": "markdown",
   "id": "250f79fc-d5a3-48d9-9702-42a49d607d40",
   "metadata": {},
   "source": [
    "# Run Registry Data\n",
    "This notebook showcases the use of the Run Registry api, `runregistry`, and serves as an example of how to use it. Read the documentation found in the `runregistry_api_client` GitHub repository for more information on how to authenticate: https://github.com/cms-DQM/runregistry_api_client"
   ]
  },
  {
   "cell_type": "code",
   "execution_count": null,
   "id": "97e38d6b-1165-4da4-b17a-7627395f7c02",
   "metadata": {},
   "outputs": [],
   "source": [
    "import runregistry\n",
    "import itertools\n",
    "runregistry.setup(\"production\")"
   ]
  },
  {
   "cell_type": "code",
   "execution_count": null,
   "id": "8112bbf5-8e09-40c1-ad3c-6326a2e8eb4d",
   "metadata": {},
   "outputs": [],
   "source": [
    "# Getting run registry data\n",
    "filter = {\n",
    "    # \"run_number\": {\n",
    "        # \"and\": [{\">=\": 365753}, {\"<=\": 373710}]\n",
    "        # \"and\": [{\"=\": 365753}]\n",
    "    # },\n",
    "    \"class\": {\n",
    "        \"and\": [{\"=\": \"Collisions23\"}]\n",
    "    },\n",
    "    \"tracker-strip\": \"GOOD\",\n",
    "    \"tracker-pixel\": \"GOOD\",\n",
    "}\n",
    "\n",
    "runs = runregistry.get_runs(filter=filter)\n",
    "runs"
   ]
  },
  {
   "cell_type": "code",
   "execution_count": null,
   "id": "8a44b377-6d8f-456e-9555-30b98048e537",
   "metadata": {},
   "outputs": [],
   "source": [
    "# Generating json\n",
    "json_logic = {\n",
    "  \"and\": [\n",
    "    {\"==\": [{\"var\": \"lumisection.rr.tracker-pixel\"}, \"GOOD\"        ]},\n",
    "    {\"==\": [{\"var\": \"lumisection.rr.tracker-strip\"}, \"GOOD\"        ]},\n",
    "    {\"==\": [{\"var\": \"lumisection.rr.tracker-track\"}, \"GOOD\"        ]},\n",
    "  ]\n",
    "}\n",
    "\n",
    "generated_jsons = {}\n",
    "datasets = ['/Express/Collisions{}/DQM', '/PromptReco/Collisions{}/DQM']\n",
    "years = ['2022', '2023', '2024']\n",
    "for dataset, year in itertools.product(datasets, years):\n",
    "    dataset_name = dataset.format(year)\n",
    "    print(dataset_name) \n",
    "    generated_jsons[dataset_name] = {\n",
    "        **runregistry.create_json(\n",
    "            json_logic=json_logic, \n",
    "            dataset_name_filter=dataset.format(year)\n",
    "        )['generated_json']\n",
    "    }"
   ]
  },
  {
   "cell_type": "code",
   "execution_count": null,
   "id": "2616a828-edc3-4c1b-9844-16c8903b13f5",
   "metadata": {},
   "outputs": [],
   "source": [
    "generated_jsons.keys()"
   ]
  },
  {
   "cell_type": "code",
   "execution_count": null,
   "id": "cd11efcf-cdb8-4392-a422-8cdce4226a73",
   "metadata": {},
   "outputs": [],
   "source": [
    "jsonruns = {}\n",
    "for generated_json in generated_jsons:\n",
    "    jsonruns = {**jsonruns, **generated_json[\"generated_json\"]}\n",
    "len(jsonruns)"
   ]
  },
  {
   "cell_type": "code",
   "execution_count": null,
   "id": "fcd1410a-ef86-472a-9180-42a3c7135e9f",
   "metadata": {},
   "outputs": [],
   "source": [
    "jsonruns"
   ]
  },
  {
   "cell_type": "code",
   "execution_count": null,
   "id": "ff63474c-52ac-4cb4-8dbf-a66fc4e952d3",
   "metadata": {},
   "outputs": [],
   "source": [
    "import pandas as pd\n",
    "pd.DataFrame(list(jsonruns.items()), columns=None).convert_dtypes()"
   ]
  },
  {
   "cell_type": "code",
   "execution_count": null,
   "id": "a83a7623-c625-4809-be27-65cb6d44c2bd",
   "metadata": {},
   "outputs": [],
   "source": [
    "import json\n",
    "import os\n",
    "\n",
    "json_fname = \"Express-Collisions-2022-2023-2024_pixel-strip-track-good.json\"\n",
    "outfile_path = \"/eos/home-i02/r/rcruzcan/SWAN_projects/RefRunRank/RefRunRank/jsons/\"\n",
    "\n",
    "with open (os.path.join(outfile_path, json_fname), \"w\") as outfile:\n",
    "    json.dump(jsonruns, outfile)"
   ]
  }
 ],
 "metadata": {
  "kernelspec": {
   "display_name": "Python 3",
   "language": "python",
   "name": "python3"
  },
  "language_info": {
   "codemirror_mode": {
    "name": "ipython",
    "version": 3
   },
   "file_extension": ".py",
   "mimetype": "text/x-python",
   "name": "python",
   "nbconvert_exporter": "python",
   "pygments_lexer": "ipython3",
   "version": "3.11.9"
  }
 },
 "nbformat": 4,
 "nbformat_minor": 5
}
