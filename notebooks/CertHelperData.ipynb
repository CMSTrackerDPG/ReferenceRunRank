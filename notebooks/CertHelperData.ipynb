{
 "cells": [
  {
   "cell_type": "markdown",
   "id": "98faad8d-4c58-4dd1-b45a-026fee1db646",
   "metadata": {},
   "source": [
    "# Certification Helper Data Manager\n",
    "This notebook showcases the use of the `CHRunData` object."
   ]
  },
  {
   "cell_type": "code",
   "execution_count": null,
   "id": "b4630d68-fa9b-48a2-b7fd-3b08c5d4cde6",
   "metadata": {},
   "outputs": [],
   "source": [
    "import sys\n",
    "sys.path.append(\"../src/\")\n",
    "import refrunrank as rrr"
   ]
  },
  {
   "cell_type": "code",
   "execution_count": null,
   "id": "fcdf6255-0642-414b-bd1f-ec70b50bfa67",
   "metadata": {},
   "outputs": [],
   "source": [
    "# Load data from CertHelper website if its not already stored locally in a JSON file\n",
    "url = \"https://certhelper.web.cern.ch/certify/allRunsRefRuns/\"\n",
    "outfilename = \"ch_refruns.json\"\n",
    "rrr.utils.data_utils.loadFromWeb(url, outfilename)"
   ]
  },
  {
   "cell_type": "code",
   "execution_count": null,
   "id": "63948fc5-694b-4140-afdc-99777a59f53b",
   "metadata": {},
   "outputs": [],
   "source": [
    "# Data is loaded in through JSON, but if it is missing, it can be loaded from CertHelper directly\n",
    "CHData = rrr.datamanagers.certhelper.CHRunData(\"ch_refruns.json\", \"../jsons/rr_golden.json\")"
   ]
  },
  {
   "cell_type": "code",
   "execution_count": null,
   "id": "641b927a-c854-4362-a731-ab3d42b94906",
   "metadata": {},
   "outputs": [],
   "source": [
    "CHData.RunsDF[CHData.RunsDF[\"run_number\"] == CHData.RunsDF[\"run_number\"].max()]"
   ]
  },
  {
   "cell_type": "code",
   "execution_count": null,
   "id": "839d974a-44ca-42a6-846a-ff520a9e02a7",
   "metadata": {},
   "outputs": [],
   "source": [
    "CHData.goldenRunsDF"
   ]
  },
  {
   "cell_type": "code",
   "execution_count": null,
   "id": "d8af45d6-e63e-41f9-a17b-81be7e32b9da",
   "metadata": {},
   "outputs": [],
   "source": [
    "filters = {\n",
    "    # \"run_number\": (313118, 377251),\n",
    "    # \"reference_run_number\": 312727,\n",
    "    # \"run_reconstruction_type\": \"express\",\n",
    "    # \"reference_run_reconstruction_type\": \"express\",\n",
    "    \"dataset\": \"/PromptReco*\"\n",
    "}\n",
    "\n",
    "CHData.applyfilter(filters=filters)"
   ]
  },
  {
   "cell_type": "code",
   "execution_count": null,
   "id": "0cf9850d-4746-4659-9eb6-9dc4c6f71a21",
   "metadata": {},
   "outputs": [],
   "source": [
    "CHData.RunsDF"
   ]
  }
 ],
 "metadata": {
  "kernelspec": {
   "display_name": "Python 3",
   "language": "python",
   "name": "python3"
  },
  "language_info": {
   "codemirror_mode": {
    "name": "ipython",
    "version": 3
   },
   "file_extension": ".py",
   "mimetype": "text/x-python",
   "name": "python",
   "nbconvert_exporter": "python",
   "pygments_lexer": "ipython3",
   "version": "3.11.9"
  }
 },
 "nbformat": 4,
 "nbformat_minor": 5
}
